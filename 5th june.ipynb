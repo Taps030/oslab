{
 "cells": [
  {
   "cell_type": "code",
   "execution_count": 3,
   "id": "5315e06e",
   "metadata": {},
   "outputs": [],
   "source": [
    "## To Implement Solution for Classic Problems of Synchronization\n",
    "\n",
    "import threading\n",
    "import time\n",
    "# Shared Memory variables\n",
    "CAPACITY = 10\n",
    "buffer = [-1 for i in range(CAPACITY)]\n",
    "in_index = 0\n",
    "out_index = 0\n",
    "# Declaring Semaphores\n",
    "mutex = threading.Semaphore()\n",
    "empty = threading.Semaphore(CAPACITY)\n",
    "full = threading.Semaphore(0)\n",
    "# Producer Thread Class\n",
    "class Producer(threading.Thread):\n",
    "    def run(self):\n",
    "        global CAPACITY, buffer, in_index, out_index\n",
    "        global mutex, empty, full\n",
    "        items_produced = 0\n",
    "        counter = 0\n",
    "        while items_produced < 20:\n",
    "            empty.acquire()\n",
    "            mutex.acquire()\n",
    "            counter += 1\n",
    "            buffer[in_index] = counter\n",
    "            in_index = (in_index + 1)%CAPACITY\n",
    "            print(\"Producer produced : \", counter)\n",
    "            mutex.release()\n",
    "            full.release()\n",
    "            time.sleep(1)\n",
    "            items_produced += 1\n",
    "            class Consumer(threading.Thread):\n",
    "                def run(self):\n",
    "                    global CAPACITY, buffer, in_index, out_index, counter\n",
    "                    global mutex, empty, full\n",
    "                    items_consumed = 0\n",
    "                    while items_consumed < 20:\n",
    "                        full.acquire()\n",
    "                        mutex.acquire()\n",
    "                        item = buffer[out_index]\n",
    "                        out_index = (out_index + 1)%CAPACITY\n",
    "                        print(\"Consumer consumed item : \", item)\n",
    "                        mutex.release()\n",
    "                        empty.release() \n",
    "                        time.sleep(2.5)\n",
    "                        items_consumed += 1\n",
    "                        producer = Producer()\n",
    "                        consumer = Consumer()\n",
    "                        consumer.start()\n",
    "                        producer.start()\n",
    "                        producer.join()\n",
    "                        consumer.join()\n"
   ]
  }
 ],
 "metadata": {
  "kernelspec": {
   "display_name": "Python 3 (ipykernel)",
   "language": "python",
   "name": "python3"
  },
  "language_info": {
   "codemirror_mode": {
    "name": "ipython",
    "version": 3
   },
   "file_extension": ".py",
   "mimetype": "text/x-python",
   "name": "python",
   "nbconvert_exporter": "python",
   "pygments_lexer": "ipython3",
   "version": "3.9.12"
  }
 },
 "nbformat": 4,
 "nbformat_minor": 5
}
